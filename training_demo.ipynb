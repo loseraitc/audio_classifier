{
 "metadata": {
  "language_info": {
   "codemirror_mode": {
    "name": "ipython",
    "version": 3
   },
   "file_extension": ".py",
   "mimetype": "text/x-python",
   "name": "python",
   "nbconvert_exporter": "python",
   "pygments_lexer": "ipython3",
   "version": "3.8.1-final"
  },
  "orig_nbformat": 2,
  "kernelspec": {
   "name": "Python 3.8.1 64-bit ('venv')",
   "display_name": "Python 3.8.1 64-bit ('venv')",
   "metadata": {
    "interpreter": {
     "hash": "db31494cdddb3bd1604847e5831987a1545b230cef5defdb7d44cb0d53a71f7c"
    }
   }
  }
 },
 "nbformat": 4,
 "nbformat_minor": 2,
 "cells": [
  {
   "cell_type": "code",
   "execution_count": 1,
   "metadata": {},
   "outputs": [],
   "source": [
    "import os\n",
    "os.environ['http_proxy'] = 'http://127.0.0.1:12639'\n",
    "os.environ['https_proxy'] = 'http://127.0.0.1:12639'\n",
    "\n",
    "import torch\n",
    "from torch import nn\n",
    "import torch.nn.functional as F\n",
    "from torchvision import datasets\n",
    "from torch.utils.data import DataLoader, random_split\n",
    "from torchvision import transforms\n",
    "import pytorch_lightning as pl"
   ]
  },
  {
   "cell_type": "code",
   "execution_count": 2,
   "metadata": {},
   "outputs": [],
   "source": [
    "import torchvision.models as models\n",
    "\n",
    "class SimpleCNN(pl.LightningModule):\n",
    "    def __init__(self, num_classes=2, num_channels=1, target_sr=44100, conv_targ_out_size=2000):\n",
    "        super().__init__()\n",
    "        # init a pretrained resnet\n",
    "        self.num_classes = num_classes\n",
    "        self.conv_targ_out_size = conv_targ_out_size\n",
    "        self.conv1 = nn.Conv1d(num_channels, 2, 5)\n",
    "        self.conv2 = nn.Conv1d(2, 4, 5)\n",
    "        self.pool = nn.MaxPool1d(2)\n",
    "        self.adaptive_pool = nn.AdaptiveMaxPool1d(conv_targ_out_size)\n",
    "        self.fc1 = nn.Linear(4 * conv_targ_out_size, 120)\n",
    "        self.fc2 = nn.Linear(120, 84)\n",
    "        self.fc3 = nn.Linear(84, num_classes)\n",
    "\n",
    "    def forward(self, x):\n",
    "        x = self.pool(F.relu(self.conv1(x)))\n",
    "        x = self.adaptive_pool(F.relu(self.conv2(x)))\n",
    "        print(x.shape)\n",
    "        x = x.view(-1, 4 * self.conv_targ_out_size)\n",
    "        x = F.relu(self.fc1(x))\n",
    "        x = F.relu(self.fc2(x))\n",
    "        x = self.fc3(x)\n",
    "        return x\n",
    "\n",
    "    def training_step(self, batch, batch_idx):\n",
    "        images, target = batch\n",
    "        preds = self.forward(images)\n",
    "        loss = F.cross_entropy(preds, target)\n",
    "        return loss\n",
    "    \n",
    "    def configure_optimizers(self):\n",
    "        optimizer = torch.optim.Adam(self.parameters(), lr=0.001)\n",
    "        scheduler = torch.optim.lr_scheduler.StepLR(optimizer, step_size=20, gamma=0.1)\n",
    "        return [optimizer], [scheduler]"
   ]
  },
  {
   "source": [
    "Data"
   ],
   "cell_type": "markdown",
   "metadata": {}
  },
  {
   "cell_type": "code",
   "execution_count": 3,
   "metadata": {},
   "outputs": [],
   "source": [
    "from torch.utils.data import Dataset, DataLoader\n",
    "from torchvision import transforms, utils\n",
    "import torchaudio"
   ]
  },
  {
   "cell_type": "code",
   "execution_count": 4,
   "metadata": {},
   "outputs": [],
   "source": [
    "def wav_loader(fn, num_channels=1, target_sr=44100):\n",
    "    waveform, sr = torchaudio.load(fn)\n",
    "    transformed = torchaudio.transforms.Resample(sr, target_sr)(waveform[:num_channels,:])\n",
    "    return transformed"
   ]
  },
  {
   "cell_type": "code",
   "execution_count": 5,
   "metadata": {},
   "outputs": [],
   "source": [
    "def create_dataloader(dataset, batch_size=1):\n",
    "    loader = torch.utils.data.DataLoader(\n",
    "        dataset,\n",
    "        batch_size=batch_size,\n",
    "        shuffle = True\n",
    "    )\n",
    "    return loader"
   ]
  },
  {
   "cell_type": "code",
   "execution_count": 6,
   "metadata": {},
   "outputs": [],
   "source": [
    "train_dataloader = create_dataloader(datasets.DatasetFolder('demo_data', loader=wav_loader, extensions='.wav'))"
   ]
  },
  {
   "source": [
    "Training"
   ],
   "cell_type": "markdown",
   "metadata": {}
  },
  {
   "cell_type": "code",
   "execution_count": 7,
   "metadata": {
    "tags": [
     "outputPrepend"
    ]
   },
   "outputs": [
    {
     "output_type": "stream",
     "name": "stderr",
     "text": "h.Size([1, 4, 2000])\nEpoch 6:  85%|████████▌ | 51/60 [00:06&lt;00:01,  8.31it/s, loss=0.698, v_num=9]torch.Size([1, 4, 2000])\nEpoch 6:  87%|████████▋ | 52/60 [00:06&lt;00:00,  8.22it/s, loss=0.698, v_num=9]torch.Size([1, 4, 2000])\nEpoch 6:  88%|████████▊ | 53/60 [00:06&lt;00:00,  8.19it/s, loss=0.697, v_num=9]torch.Size([1, 4, 2000])\nEpoch 6:  90%|█████████ | 54/60 [00:06&lt;00:00,  8.16it/s, loss=0.696, v_num=9]torch.Size([1, 4, 2000])\nEpoch 6:  92%|█████████▏| 55/60 [00:06&lt;00:00,  8.17it/s, loss=0.697, v_num=9]torch.Size([1, 4, 2000])\nEpoch 6:  93%|█████████▎| 56/60 [00:06&lt;00:00,  8.20it/s, loss=0.696, v_num=9]torch.Size([1, 4, 2000])\nEpoch 6:  95%|█████████▌| 57/60 [00:06&lt;00:00,  8.21it/s, loss=0.697, v_num=9]torch.Size([1, 4, 2000])\nEpoch 6:  97%|█████████▋| 58/60 [00:07&lt;00:00,  8.22it/s, loss=0.696, v_num=9]torch.Size([1, 4, 2000])\nEpoch 6:  98%|█████████▊| 59/60 [00:07&lt;00:00,  8.23it/s, loss=0.696, v_num=9]torch.Size([1, 4, 2000])\nEpoch 7:   0%|          | 0/60 [00:00&lt;?, ?it/s, loss=0.695, v_num=9]torch.Size([1, 4, 2000])\nEpoch 7:   2%|▏         | 1/60 [00:00&lt;00:08,  6.99it/s, loss=0.695, v_num=9]torch.Size([1, 4, 2000])\nEpoch 7:   3%|▎         | 2/60 [00:00&lt;00:06,  8.37it/s, loss=0.694, v_num=9]torch.Size([1, 4, 2000])\nEpoch 7:   5%|▌         | 3/60 [00:00&lt;00:06,  8.62it/s, loss=0.694, v_num=9]torch.Size([1, 4, 2000])\nEpoch 7:   7%|▋         | 4/60 [00:00&lt;00:06,  8.08it/s, loss=0.694, v_num=9]torch.Size([1, 4, 2000])\nEpoch 7:   8%|▊         | 5/60 [00:00&lt;00:06,  8.09it/s, loss=0.693, v_num=9]torch.Size([1, 4, 2000])\nEpoch 7:  10%|█         | 6/60 [00:00&lt;00:06,  8.14it/s, loss=0.694, v_num=9]torch.Size([1, 4, 2000])\nEpoch 7:  12%|█▏        | 7/60 [00:00&lt;00:06,  8.15it/s, loss=0.693, v_num=9]torch.Size([1, 4, 2000])\nEpoch 7:  13%|█▎        | 8/60 [00:00&lt;00:06,  8.36it/s, loss=0.693, v_num=9]torch.Size([1, 4, 2000])\nEpoch 7:  15%|█▌        | 9/60 [00:01&lt;00:05,  8.59it/s, loss=0.694, v_num=9]torch.Size([1, 4, 2000])\nEpoch 7:  17%|█▋        | 10/60 [00:01&lt;00:05,  8.54it/s, loss=0.693, v_num=9]torch.Size([1, 4, 2000])\nEpoch 7:  18%|█▊        | 11/60 [00:01&lt;00:05,  8.65it/s, loss=0.694, v_num=9]torch.Size([1, 4, 2000])\nEpoch 7:  20%|██        | 12/60 [00:01&lt;00:05,  8.63it/s, loss=0.693, v_num=9]torch.Size([1, 4, 2000])\nEpoch 7:  22%|██▏       | 13/60 [00:01&lt;00:05,  8.73it/s, loss=0.693, v_num=9]torch.Size([1, 4, 2000])\nEpoch 7:  23%|██▎       | 14/60 [00:01&lt;00:05,  8.63it/s, loss=0.693, v_num=9]torch.Size([1, 4, 2000])\nEpoch 7:  25%|██▌       | 15/60 [00:01&lt;00:05,  8.58it/s, loss=0.694, v_num=9]torch.Size([1, 4, 2000])\nEpoch 7:  27%|██▋       | 16/60 [00:01&lt;00:05,  8.69it/s, loss=0.694, v_num=9]torch.Size([1, 4, 2000])\nEpoch 7:  28%|██▊       | 17/60 [00:01&lt;00:04,  8.75it/s, loss=0.694, v_num=9]torch.Size([1, 4, 2000])\nEpoch 7:  30%|███       | 18/60 [00:02&lt;00:04,  8.78it/s, loss=0.694, v_num=9]torch.Size([1, 4, 2000])\nEpoch 7:  32%|███▏      | 19/60 [00:02&lt;00:04,  8.87it/s, loss=0.694, v_num=9]torch.Size([1, 4, 2000])\nEpoch 7:  33%|███▎      | 20/60 [00:02&lt;00:04,  8.90it/s, loss=0.693, v_num=9]torch.Size([1, 4, 2000])\nEpoch 7:  35%|███▌      | 21/60 [00:02&lt;00:04,  8.94it/s, loss=0.693, v_num=9]torch.Size([1, 4, 2000])\nEpoch 7:  37%|███▋      | 22/60 [00:02&lt;00:04,  8.94it/s, loss=0.693, v_num=9]torch.Size([1, 4, 2000])\nEpoch 7:  38%|███▊      | 23/60 [00:02&lt;00:04,  8.98it/s, loss=0.693, v_num=9]torch.Size([1, 4, 2000])\nEpoch 7:  40%|████      | 24/60 [00:02&lt;00:03,  9.04it/s, loss=0.693, v_num=9]torch.Size([1, 4, 2000])\nEpoch 7:  42%|████▏     | 25/60 [00:02&lt;00:03,  9.08it/s, loss=0.694, v_num=9]torch.Size([1, 4, 2000])\nEpoch 7:  43%|████▎     | 26/60 [00:02&lt;00:03,  9.03it/s, loss=0.694, v_num=9]torch.Size([1, 4, 2000])\nEpoch 7:  45%|████▌     | 27/60 [00:02&lt;00:03,  9.01it/s, loss=0.694, v_num=9]torch.Size([1, 4, 2000])\nEpoch 7:  47%|████▋     | 28/60 [00:03&lt;00:03,  8.89it/s, loss=0.693, v_num=9]torch.Size([1, 4, 2000])\nEpoch 7:  48%|████▊     | 29/60 [00:03&lt;00:03,  8.87it/s, loss=0.693, v_num=9]torch.Size([1, 4, 2000])\nEpoch 7:  50%|█████     | 30/60 [00:03&lt;00:03,  8.87it/s, loss=0.694, v_num=9]torch.Size([1, 4, 2000])\nEpoch 7:  52%|█████▏    | 31/60 [00:03&lt;00:03,  8.87it/s, loss=0.693, v_num=9]torch.Size([1, 4, 2000])\nEpoch 7:  53%|█████▎    | 32/60 [00:03&lt;00:03,  8.85it/s, loss=0.693, v_num=9]torch.Size([1, 4, 2000])\nEpoch 7:  55%|█████▌    | 33/60 [00:03&lt;00:03,  8.68it/s, loss=0.693, v_num=9]torch.Size([1, 4, 2000])\nEpoch 7:  57%|█████▋    | 34/60 [00:03&lt;00:03,  8.63it/s, loss=0.693, v_num=9]torch.Size([1, 4, 2000])\nEpoch 7:  58%|█████▊    | 35/60 [00:04&lt;00:02,  8.63it/s, loss=0.693, v_num=9]torch.Size([1, 4, 2000])\nEpoch 7:  60%|██████    | 36/60 [00:04&lt;00:02,  8.66it/s, loss=0.693, v_num=9]torch.Size([1, 4, 2000])\nEpoch 7:  62%|██████▏   | 37/60 [00:04&lt;00:02,  8.64it/s, loss=0.692, v_num=9]torch.Size([1, 4, 2000])\nEpoch 7:  63%|██████▎   | 38/60 [00:04&lt;00:02,  8.67it/s, loss=0.692, v_num=9]torch.Size([1, 4, 2000])\nEpoch 7:  65%|██████▌   | 39/60 [00:04&lt;00:02,  8.68it/s, loss=0.692, v_num=9]torch.Size([1, 4, 2000])\nEpoch 7:  67%|██████▋   | 40/60 [00:04&lt;00:02,  8.65it/s, loss=0.693, v_num=9]torch.Size([1, 4, 2000])\nEpoch 7:  68%|██████▊   | 41/60 [00:04&lt;00:02,  8.69it/s, loss=0.694, v_num=9]torch.Size([1, 4, 2000])\nEpoch 7:  70%|███████   | 42/60 [00:04&lt;00:02,  8.70it/s, loss=0.694, v_num=9]torch.Size([1, 4, 2000])\nEpoch 7:  72%|███████▏  | 43/60 [00:04&lt;00:01,  8.70it/s, loss=0.695, v_num=9]torch.Size([1, 4, 2000])\nEpoch 7:  73%|███████▎  | 44/60 [00:05&lt;00:01,  8.64it/s, loss=0.694, v_num=9]torch.Size([1, 4, 2000])\nEpoch 7:  75%|███████▌  | 45/60 [00:05&lt;00:01,  8.64it/s, loss=0.694, v_num=9]torch.Size([1, 4, 2000])\nEpoch 7:  77%|███████▋  | 46/60 [00:05&lt;00:01,  8.61it/s, loss=0.694, v_num=9]torch.Size([1, 4, 2000])\nEpoch 7:  78%|███████▊  | 47/60 [00:05&lt;00:01,  8.56it/s, loss=0.694, v_num=9]torch.Size([1, 4, 2000])\nEpoch 7:  80%|████████  | 48/60 [00:05&lt;00:01,  8.52it/s, loss=0.694, v_num=9]torch.Size([1, 4, 2000])\nEpoch 7:  82%|████████▏ | 49/60 [00:05&lt;00:01,  8.51it/s, loss=0.694, v_num=9]torch.Size([1, 4, 2000])\nEpoch 7:  83%|████████▎ | 50/60 [00:05&lt;00:01,  8.50it/s, loss=0.693, v_num=9]torch.Size([1, 4, 2000])\nEpoch 7:  85%|████████▌ | 51/60 [00:06&lt;00:01,  8.48it/s, loss=0.694, v_num=9]torch.Size([1, 4, 2000])\nEpoch 7:  87%|████████▋ | 52/60 [00:06&lt;00:00,  8.46it/s, loss=0.694, v_num=9]torch.Size([1, 4, 2000])\nEpoch 7:  88%|████████▊ | 53/60 [00:06&lt;00:00,  8.51it/s, loss=0.695, v_num=9]torch.Size([1, 4, 2000])\nEpoch 7:  90%|█████████ | 54/60 [00:06&lt;00:00,  8.53it/s, loss=0.695, v_num=9]torch.Size([1, 4, 2000])\nEpoch 7:  92%|█████████▏| 55/60 [00:06&lt;00:00,  8.50it/s, loss=0.695, v_num=9]torch.Size([1, 4, 2000])\nEpoch 7:  93%|█████████▎| 56/60 [00:06&lt;00:00,  8.49it/s, loss=0.695, v_num=9]torch.Size([1, 4, 2000])\nEpoch 7:  95%|█████████▌| 57/60 [00:06&lt;00:00,  8.49it/s, loss=0.695, v_num=9]torch.Size([1, 4, 2000])\nEpoch 7:  97%|█████████▋| 58/60 [00:06&lt;00:00,  8.51it/s, loss=0.695, v_num=9]torch.Size([1, 4, 2000])\nEpoch 7:  98%|█████████▊| 59/60 [00:06&lt;00:00,  8.46it/s, loss=0.696, v_num=9]torch.Size([1, 4, 2000])\nEpoch 8:   0%|          | 0/60 [00:00&lt;?, ?it/s, loss=0.695, v_num=9]torch.Size([1, 4, 2000])\nEpoch 8:   2%|▏         | 1/60 [00:00&lt;00:07,  8.00it/s, loss=0.694, v_num=9]torch.Size([1, 4, 2000])\nEpoch 8:   3%|▎         | 2/60 [00:00&lt;00:06,  9.22it/s, loss=0.693, v_num=9]torch.Size([1, 4, 2000])\nEpoch 8:   5%|▌         | 3/60 [00:00&lt;00:06,  9.35it/s, loss=0.693, v_num=9]torch.Size([1, 4, 2000])\nEpoch 8:   7%|▋         | 4/60 [00:00&lt;00:06,  9.05it/s, loss=0.694, v_num=9]torch.Size([1, 4, 2000])\nEpoch 8:   8%|▊         | 5/60 [00:00&lt;00:06,  8.98it/s, loss=0.693, v_num=9]torch.Size([1, 4, 2000])\nEpoch 8:  10%|█         | 6/60 [00:00&lt;00:06,  8.76it/s, loss=0.692, v_num=9]torch.Size([1, 4, 2000])\nEpoch 8:  12%|█▏        | 7/60 [00:00&lt;00:06,  8.47it/s, loss=0.692, v_num=9]torch.Size([1, 4, 2000])\nEpoch 8:  13%|█▎        | 8/60 [00:00&lt;00:06,  8.58it/s, loss=0.693, v_num=9]torch.Size([1, 4, 2000])\nEpoch 8:  15%|█▌        | 9/60 [00:01&lt;00:05,  8.71it/s, loss=0.693, v_num=9]torch.Size([1, 4, 2000])\nEpoch 8:  17%|█▋        | 10/60 [00:01&lt;00:05,  8.68it/s, loss=0.692, v_num=9]torch.Size([1, 4, 2000])\nEpoch 8:  18%|█▊        | 11/60 [00:01&lt;00:05,  8.53it/s, loss=0.691, v_num=9]torch.Size([1, 4, 2000])\nEpoch 8:  20%|██        | 12/60 [00:01&lt;00:05,  8.52it/s, loss=0.691, v_num=9]torch.Size([1, 4, 2000])\nEpoch 8:  22%|██▏       | 13/60 [00:01&lt;00:05,  8.41it/s, loss=0.691, v_num=9]torch.Size([1, 4, 2000])\nEpoch 8:  23%|██▎       | 14/60 [00:01&lt;00:05,  8.18it/s, loss=0.690, v_num=9]torch.Size([1, 4, 2000])\nEpoch 8:  25%|██▌       | 15/60 [00:01&lt;00:05,  8.21it/s, loss=0.689, v_num=9]torch.Size([1, 4, 2000])\nEpoch 8:  27%|██▋       | 16/60 [00:01&lt;00:05,  8.35it/s, loss=0.689, v_num=9]torch.Size([1, 4, 2000])\nEpoch 8:  28%|██▊       | 17/60 [00:02&lt;00:05,  8.44it/s, loss=0.691, v_num=9]torch.Size([1, 4, 2000])\nEpoch 8:  30%|███       | 18/60 [00:02&lt;00:04,  8.43it/s, loss=0.690, v_num=9]torch.Size([1, 4, 2000])\nEpoch 8:  32%|███▏      | 19/60 [00:02&lt;00:04,  8.51it/s, loss=0.691, v_num=9]torch.Size([1, 4, 2000])\nEpoch 8:  33%|███▎      | 20/60 [00:02&lt;00:04,  8.49it/s, loss=0.690, v_num=9]torch.Size([1, 4, 2000])\nEpoch 8:  35%|███▌      | 21/60 [00:02&lt;00:04,  8.46it/s, loss=0.691, v_num=9]torch.Size([1, 4, 2000])\nEpoch 8:  37%|███▋      | 22/60 [00:02&lt;00:04,  8.50it/s, loss=0.693, v_num=9]torch.Size([1, 4, 2000])\nEpoch 8:  38%|███▊      | 23/60 [00:02&lt;00:04,  8.51it/s, loss=0.694, v_num=9]torch.Size([1, 4, 2000])\nEpoch 8:  40%|████      | 24/60 [00:02&lt;00:04,  8.30it/s, loss=0.692, v_num=9]torch.Size([1, 4, 2000])\nEpoch 8:  42%|████▏     | 25/60 [00:03&lt;00:04,  8.25it/s, loss=0.694, v_num=9]torch.Size([1, 4, 2000])\nEpoch 8:  43%|████▎     | 26/60 [00:03&lt;00:04,  8.17it/s, loss=0.695, v_num=9]torch.Size([1, 4, 2000])\nEpoch 8:  45%|████▌     | 27/60 [00:03&lt;00:04,  8.14it/s, loss=0.695, v_num=9]torch.Size([1, 4, 2000])\nEpoch 8:  47%|████▋     | 28/60 [00:03&lt;00:03,  8.22it/s, loss=0.695, v_num=9]torch.Size([1, 4, 2000])\nEpoch 8:  48%|████▊     | 29/60 [00:03&lt;00:03,  8.29it/s, loss=0.697, v_num=9]torch.Size([1, 4, 2000])\nEpoch 8:  50%|█████     | 30/60 [00:03&lt;00:03,  8.30it/s, loss=0.698, v_num=9]torch.Size([1, 4, 2000])\nEpoch 8:  52%|█████▏    | 31/60 [00:03&lt;00:03,  8.32it/s, loss=0.698, v_num=9]torch.Size([1, 4, 2000])\nEpoch 8:  53%|█████▎    | 32/60 [00:03&lt;00:03,  8.36it/s, loss=0.698, v_num=9]torch.Size([1, 4, 2000])\nEpoch 8:  55%|█████▌    | 33/60 [00:03&lt;00:03,  8.39it/s, loss=0.696, v_num=9]torch.Size([1, 4, 2000])\nEpoch 8:  57%|█████▋    | 34/60 [00:04&lt;00:03,  8.45it/s, loss=0.698, v_num=9]torch.Size([1, 4, 2000])\nEpoch 8:  58%|█████▊    | 35/60 [00:04&lt;00:02,  8.41it/s, loss=0.698, v_num=9]torch.Size([1, 4, 2000])\nEpoch 8:  60%|██████    | 36/60 [00:04&lt;00:02,  8.34it/s, loss=0.696, v_num=9]torch.Size([1, 4, 2000])\nEpoch 8:  62%|██████▏   | 37/60 [00:04&lt;00:02,  8.34it/s, loss=0.694, v_num=9]torch.Size([1, 4, 2000])\nEpoch 8:  63%|██████▎   | 38/60 [00:04&lt;00:02,  8.34it/s, loss=0.694, v_num=9]torch.Size([1, 4, 2000])\nEpoch 8:  65%|██████▌   | 39/60 [00:04&lt;00:02,  8.36it/s, loss=0.693, v_num=9]torch.Size([1, 4, 2000])\nEpoch 8:  67%|██████▋   | 40/60 [00:04&lt;00:02,  8.34it/s, loss=0.695, v_num=9]torch.Size([1, 4, 2000])\nEpoch 8:  68%|██████▊   | 41/60 [00:04&lt;00:02,  8.37it/s, loss=0.692, v_num=9]torch.Size([1, 4, 2000])\nEpoch 8:  70%|███████   | 42/60 [00:04&lt;00:02,  8.41it/s, loss=0.692, v_num=9]torch.Size([1, 4, 2000])\nEpoch 8:  72%|███████▏  | 43/60 [00:05&lt;00:02,  8.37it/s, loss=0.690, v_num=9]torch.Size([1, 4, 2000])\nEpoch 8:  73%|███████▎  | 44/60 [00:05&lt;00:01,  8.40it/s, loss=0.692, v_num=9]torch.Size([1, 4, 2000])\nEpoch 8:  75%|███████▌  | 45/60 [00:05&lt;00:01,  8.40it/s, loss=0.693, v_num=9]torch.Size([1, 4, 2000])\nEpoch 8:  77%|███████▋  | 46/60 [00:05&lt;00:01,  8.42it/s, loss=0.693, v_num=9]torch.Size([1, 4, 2000])\nEpoch 8:  78%|███████▊  | 47/60 [00:05&lt;00:01,  8.40it/s, loss=0.695, v_num=9]torch.Size([1, 4, 2000])\nEpoch 8:  80%|████████  | 48/60 [00:05&lt;00:01,  8.43it/s, loss=0.695, v_num=9]torch.Size([1, 4, 2000])\nEpoch 8:  82%|████████▏ | 49/60 [00:05&lt;00:01,  8.41it/s, loss=0.695, v_num=9]torch.Size([1, 4, 2000])\nEpoch 8:  83%|████████▎ | 50/60 [00:05&lt;00:01,  8.39it/s, loss=0.695, v_num=9]torch.Size([1, 4, 2000])\nEpoch 8:  85%|████████▌ | 51/60 [00:06&lt;00:01,  8.37it/s, loss=0.697, v_num=9]torch.Size([1, 4, 2000])\nEpoch 8:  87%|████████▋ | 52/60 [00:06&lt;00:00,  8.36it/s, loss=0.698, v_num=9]torch.Size([1, 4, 2000])\nEpoch 8:  88%|████████▊ | 53/60 [00:06&lt;00:00,  8.39it/s, loss=0.698, v_num=9]torch.Size([1, 4, 2000])\nEpoch 8:  90%|█████████ | 54/60 [00:06&lt;00:00,  8.41it/s, loss=0.697, v_num=9]torch.Size([1, 4, 2000])\nEpoch 8:  92%|█████████▏| 55/60 [00:06&lt;00:00,  8.43it/s, loss=0.697, v_num=9]torch.Size([1, 4, 2000])\nEpoch 8:  93%|█████████▎| 56/60 [00:06&lt;00:00,  8.45it/s, loss=0.697, v_num=9]torch.Size([1, 4, 2000])\nEpoch 8:  95%|█████████▌| 57/60 [00:06&lt;00:00,  8.46it/s, loss=0.697, v_num=9]torch.Size([1, 4, 2000])\nEpoch 8:  97%|█████████▋| 58/60 [00:06&lt;00:00,  8.45it/s, loss=0.699, v_num=9]torch.Size([1, 4, 2000])\nEpoch 8:  98%|█████████▊| 59/60 [00:06&lt;00:00,  8.45it/s, loss=0.700, v_num=9]torch.Size([1, 4, 2000])\nEpoch 9:   0%|          | 0/60 [00:00&lt;?, ?it/s, loss=0.700, v_num=9]torch.Size([1, 4, 2000])\nEpoch 9:   2%|▏         | 1/60 [00:00&lt;00:07,  8.20it/s, loss=0.702, v_num=9]torch.Size([1, 4, 2000])\nEpoch 9:   3%|▎         | 2/60 [00:00&lt;00:07,  8.00it/s, loss=0.701, v_num=9]torch.Size([1, 4, 2000])\nEpoch 9:   5%|▌         | 3/60 [00:00&lt;00:06,  8.71it/s, loss=0.703, v_num=9]torch.Size([1, 4, 2000])\nEpoch 9:   7%|▋         | 4/60 [00:00&lt;00:06,  8.51it/s, loss=0.701, v_num=9]torch.Size([1, 4, 2000])\nEpoch 9:   8%|▊         | 5/60 [00:00&lt;00:06,  8.28it/s, loss=0.700, v_num=9]torch.Size([1, 4, 2000])\nEpoch 9:  10%|█         | 6/60 [00:00&lt;00:06,  8.04it/s, loss=0.699, v_num=9]torch.Size([1, 4, 2000])\nEpoch 9:  12%|█▏        | 7/60 [00:00&lt;00:06,  8.01it/s, loss=0.698, v_num=9]torch.Size([1, 4, 2000])\nEpoch 9:  13%|█▎        | 8/60 [00:00&lt;00:06,  8.20it/s, loss=0.697, v_num=9]torch.Size([1, 4, 2000])\nEpoch 9:  15%|█▌        | 9/60 [00:01&lt;00:06,  8.06it/s, loss=0.695, v_num=9]torch.Size([1, 4, 2000])\nEpoch 9:  17%|█▋        | 10/60 [00:01&lt;00:06,  8.23it/s, loss=0.694, v_num=9]torch.Size([1, 4, 2000])\nEpoch 9:  18%|█▊        | 11/60 [00:01&lt;00:05,  8.45it/s, loss=0.694, v_num=9]torch.Size([1, 4, 2000])\nEpoch 9:  20%|██        | 12/60 [00:01&lt;00:05,  8.63it/s, loss=0.693, v_num=9]torch.Size([1, 4, 2000])\nEpoch 9:  22%|██▏       | 13/60 [00:01&lt;00:05,  8.74it/s, loss=0.693, v_num=9]torch.Size([1, 4, 2000])\nEpoch 9:  23%|██▎       | 14/60 [00:01&lt;00:05,  8.60it/s, loss=0.694, v_num=9]torch.Size([1, 4, 2000])\nEpoch 9:  25%|██▌       | 15/60 [00:01&lt;00:05,  8.70it/s, loss=0.695, v_num=9]torch.Size([1, 4, 2000])\nEpoch 9:  27%|██▋       | 16/60 [00:01&lt;00:05,  8.71it/s, loss=0.695, v_num=9]torch.Size([1, 4, 2000])\nEpoch 9:  28%|██▊       | 17/60 [00:01&lt;00:04,  8.77it/s, loss=0.696, v_num=9]torch.Size([1, 4, 2000])\nEpoch 9:  30%|███       | 18/60 [00:02&lt;00:04,  8.75it/s, loss=0.695, v_num=9]torch.Size([1, 4, 2000])\nEpoch 9:  32%|███▏      | 19/60 [00:02&lt;00:04,  8.68it/s, loss=0.695, v_num=9]torch.Size([1, 4, 2000])\nEpoch 9:  33%|███▎      | 20/60 [00:02&lt;00:04,  8.70it/s, loss=0.694, v_num=9]torch.Size([1, 4, 2000])\nEpoch 9:  35%|███▌      | 21/60 [00:02&lt;00:04,  8.72it/s, loss=0.694, v_num=9]torch.Size([1, 4, 2000])\nEpoch 9:  37%|███▋      | 22/60 [00:02&lt;00:04,  8.65it/s, loss=0.693, v_num=9]torch.Size([1, 4, 2000])\nEpoch 9:  38%|███▊      | 23/60 [00:02&lt;00:04,  8.63it/s, loss=0.692, v_num=9]torch.Size([1, 4, 2000])\nEpoch 9:  40%|████      | 24/60 [00:02&lt;00:04,  8.63it/s, loss=0.692, v_num=9]torch.Size([1, 4, 2000])\nEpoch 9:  42%|████▏     | 25/60 [00:02&lt;00:04,  8.66it/s, loss=0.692, v_num=9]torch.Size([1, 4, 2000])\nEpoch 9:  43%|████▎     | 26/60 [00:02&lt;00:03,  8.68it/s, loss=0.692, v_num=9]torch.Size([1, 4, 2000])\nEpoch 9:  45%|████▌     | 27/60 [00:03&lt;00:03,  8.72it/s, loss=0.692, v_num=9]torch.Size([1, 4, 2000])\nEpoch 9:  47%|████▋     | 28/60 [00:03&lt;00:03,  8.73it/s, loss=0.693, v_num=9]torch.Size([1, 4, 2000])\nEpoch 9:  48%|████▊     | 29/60 [00:03&lt;00:03,  8.73it/s, loss=0.692, v_num=9]torch.Size([1, 4, 2000])\nEpoch 9:  50%|█████     | 30/60 [00:03&lt;00:03,  8.77it/s, loss=0.693, v_num=9]torch.Size([1, 4, 2000])\nEpoch 9:  52%|█████▏    | 31/60 [00:03&lt;00:03,  8.77it/s, loss=0.692, v_num=9]torch.Size([1, 4, 2000])\nEpoch 9:  53%|█████▎    | 32/60 [00:03&lt;00:03,  8.69it/s, loss=0.692, v_num=9]torch.Size([1, 4, 2000])\nEpoch 9:  55%|█████▌    | 33/60 [00:03&lt;00:03,  8.74it/s, loss=0.693, v_num=9]torch.Size([1, 4, 2000])\nEpoch 9:  57%|█████▋    | 34/60 [00:03&lt;00:02,  8.77it/s, loss=0.692, v_num=9]torch.Size([1, 4, 2000])\nEpoch 9:  58%|█████▊    | 35/60 [00:03&lt;00:02,  8.76it/s, loss=0.692, v_num=9]torch.Size([1, 4, 2000])\nEpoch 9:  60%|██████    | 36/60 [00:04&lt;00:02,  8.78it/s, loss=0.692, v_num=9]torch.Size([1, 4, 2000])\nEpoch 9:  62%|██████▏   | 37/60 [00:04&lt;00:02,  8.79it/s, loss=0.691, v_num=9]torch.Size([1, 4, 2000])\nEpoch 9:  63%|██████▎   | 38/60 [00:04&lt;00:02,  8.80it/s, loss=0.692, v_num=9]torch.Size([1, 4, 2000])\nEpoch 9:  65%|██████▌   | 39/60 [00:04&lt;00:02,  8.75it/s, loss=0.692, v_num=9]torch.Size([1, 4, 2000])\nEpoch 9:  67%|██████▋   | 40/60 [00:04&lt;00:02,  8.71it/s, loss=0.693, v_num=9]torch.Size([1, 4, 2000])\nEpoch 9:  68%|██████▊   | 41/60 [00:04&lt;00:02,  8.62it/s, loss=0.692, v_num=9]torch.Size([1, 4, 2000])\nEpoch 9:  70%|███████   | 42/60 [00:04&lt;00:02,  8.58it/s, loss=0.692, v_num=9]torch.Size([1, 4, 2000])\nEpoch 9:  72%|███████▏  | 43/60 [00:04&lt;00:01,  8.61it/s, loss=0.693, v_num=9]torch.Size([1, 4, 2000])\nEpoch 9:  73%|███████▎  | 44/60 [00:05&lt;00:01,  8.63it/s, loss=0.694, v_num=9]torch.Size([1, 4, 2000])\nEpoch 9:  75%|███████▌  | 45/60 [00:05&lt;00:01,  8.66it/s, loss=0.695, v_num=9]torch.Size([1, 4, 2000])\nEpoch 9:  77%|███████▋  | 46/60 [00:05&lt;00:01,  8.60it/s, loss=0.696, v_num=9]torch.Size([1, 4, 2000])\nEpoch 9:  78%|███████▊  | 47/60 [00:05&lt;00:01,  8.56it/s, loss=0.696, v_num=9]torch.Size([1, 4, 2000])\nEpoch 9:  80%|████████  | 48/60 [00:05&lt;00:01,  8.46it/s, loss=0.695, v_num=9]torch.Size([1, 4, 2000])\nEpoch 9:  82%|████████▏ | 49/60 [00:05&lt;00:01,  8.49it/s, loss=0.696, v_num=9]torch.Size([1, 4, 2000])\nEpoch 9:  83%|████████▎ | 50/60 [00:05&lt;00:01,  8.48it/s, loss=0.696, v_num=9]torch.Size([1, 4, 2000])\nEpoch 9:  85%|████████▌ | 51/60 [00:06&lt;00:01,  8.47it/s, loss=0.696, v_num=9]torch.Size([1, 4, 2000])\nEpoch 9:  87%|████████▋ | 52/60 [00:06&lt;00:00,  8.43it/s, loss=0.696, v_num=9]torch.Size([1, 4, 2000])\nEpoch 9:  88%|████████▊ | 53/60 [00:06&lt;00:00,  8.45it/s, loss=0.695, v_num=9]torch.Size([1, 4, 2000])\nEpoch 9:  90%|█████████ | 54/60 [00:06&lt;00:00,  8.46it/s, loss=0.696, v_num=9]torch.Size([1, 4, 2000])\nEpoch 9:  92%|█████████▏| 55/60 [00:06&lt;00:00,  8.46it/s, loss=0.696, v_num=9]torch.Size([1, 4, 2000])\nEpoch 9:  93%|█████████▎| 56/60 [00:06&lt;00:00,  8.47it/s, loss=0.696, v_num=9]torch.Size([1, 4, 2000])\nEpoch 9:  95%|█████████▌| 57/60 [00:06&lt;00:00,  8.45it/s, loss=0.697, v_num=9]torch.Size([1, 4, 2000])\nEpoch 9:  97%|█████████▋| 58/60 [00:06&lt;00:00,  8.44it/s, loss=0.696, v_num=9]torch.Size([1, 4, 2000])\nEpoch 9:  98%|█████████▊| 59/60 [00:06&lt;00:00,  8.45it/s, loss=0.695, v_num=9]torch.Size([1, 4, 2000])\nEpoch 9: 100%|██████████| 60/60 [00:07&lt;00:00,  8.48it/s, loss=0.695, v_num=9]Saving latest checkpoint..\nEpoch 9: 100%|██████████| 60/60 [00:07&lt;00:00,  8.47it/s, loss=0.695, v_num=9]\n"
    },
    {
     "output_type": "execute_result",
     "data": {
      "text/plain": "1"
     },
     "metadata": {},
     "execution_count": 7
    }
   ],
   "source": [
    "model = SimpleCNN()\n",
    "trainer = pl.Trainer(max_epochs=10, gpus=torch.cuda.device_count())\n",
    "trainer.fit(model, train_dataloader)"
   ]
  },
  {
   "cell_type": "code",
   "execution_count": null,
   "metadata": {},
   "outputs": [],
   "source": []
  },
  {
   "cell_type": "code",
   "execution_count": null,
   "metadata": {},
   "outputs": [],
   "source": []
  }
 ]
}